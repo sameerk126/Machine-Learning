{
 "cells": [
  {
   "cell_type": "code",
   "execution_count": 14,
   "id": "09b6d7dc",
   "metadata": {},
   "outputs": [
    {
     "data": {
      "application/javascript": [
       "\n",
       "        if (window._pyforest_update_imports_cell) { window._pyforest_update_imports_cell('import pandas as pd'); }\n",
       "    "
      ],
      "text/plain": [
       "<IPython.core.display.Javascript object>"
      ]
     },
     "metadata": {},
     "output_type": "display_data"
    }
   ],
   "source": [
    "df = pd.read_csv(\"https://raw.githubusercontent.com/krishnaik06/Machine-Learning-in-90-days/master/Section%201-%20Python%20Crash%20Course/wine.csv\",\n",
    "                 header=None,usecols=[1,2,3])"
   ]
  },
  {
   "cell_type": "code",
   "execution_count": 15,
   "id": "d7299abf",
   "metadata": {},
   "outputs": [],
   "source": [
    "df.columns=['Class','Alcohol','Malic']"
   ]
  },
  {
   "cell_type": "code",
   "execution_count": 16,
   "id": "5991e8c0",
   "metadata": {},
   "outputs": [
    {
     "data": {
      "text/html": [
       "<div>\n",
       "<style scoped>\n",
       "    .dataframe tbody tr th:only-of-type {\n",
       "        vertical-align: middle;\n",
       "    }\n",
       "\n",
       "    .dataframe tbody tr th {\n",
       "        vertical-align: top;\n",
       "    }\n",
       "\n",
       "    .dataframe thead th {\n",
       "        text-align: right;\n",
       "    }\n",
       "</style>\n",
       "<table border=\"1\" class=\"dataframe\">\n",
       "  <thead>\n",
       "    <tr style=\"text-align: right;\">\n",
       "      <th></th>\n",
       "      <th>Class</th>\n",
       "      <th>Alcohol</th>\n",
       "      <th>Malic</th>\n",
       "    </tr>\n",
       "  </thead>\n",
       "  <tbody>\n",
       "    <tr>\n",
       "      <th>0</th>\n",
       "      <td>0</td>\n",
       "      <td>1.00</td>\n",
       "      <td>2.00</td>\n",
       "    </tr>\n",
       "    <tr>\n",
       "      <th>1</th>\n",
       "      <td>1</td>\n",
       "      <td>14.23</td>\n",
       "      <td>1.71</td>\n",
       "    </tr>\n",
       "    <tr>\n",
       "      <th>2</th>\n",
       "      <td>1</td>\n",
       "      <td>13.20</td>\n",
       "      <td>1.78</td>\n",
       "    </tr>\n",
       "    <tr>\n",
       "      <th>3</th>\n",
       "      <td>1</td>\n",
       "      <td>13.16</td>\n",
       "      <td>2.36</td>\n",
       "    </tr>\n",
       "    <tr>\n",
       "      <th>4</th>\n",
       "      <td>1</td>\n",
       "      <td>14.37</td>\n",
       "      <td>1.95</td>\n",
       "    </tr>\n",
       "  </tbody>\n",
       "</table>\n",
       "</div>"
      ],
      "text/plain": [
       "   Class  Alcohol  Malic\n",
       "0      0     1.00   2.00\n",
       "1      1    14.23   1.71\n",
       "2      1    13.20   1.78\n",
       "3      1    13.16   2.36\n",
       "4      1    14.37   1.95"
      ]
     },
     "execution_count": 16,
     "metadata": {},
     "output_type": "execute_result"
    }
   ],
   "source": [
    "df.head()"
   ]
  },
  {
   "cell_type": "markdown",
   "id": "4855c0e0",
   "metadata": {},
   "source": [
    "No# "
   ]
  },
  {
   "cell_type": "markdown",
   "id": "f8dc8477",
   "metadata": {},
   "source": [
    "## Normalization \n",
    "\n",
    "In this approch we will scale down the values fo the features between 0 to 1"
   ]
  },
  {
   "cell_type": "markdown",
   "id": "e102b7bd",
   "metadata": {},
   "source": [
    "## X norm = (x - Xmin)/(Xmax - xmin)"
   ]
  },
  {
   "cell_type": "code",
   "execution_count": 21,
   "id": "194601e9",
   "metadata": {},
   "outputs": [
    {
     "name": "stdout",
     "output_type": "stream",
     "text": [
      "Collecting sklearnNote: you may need to restart the kernel to use updated packages.\n",
      "  Downloading sklearn-0.0.tar.gz (1.1 kB)\n",
      "Requirement already satisfied: scikit-learn in c:\\programdata\\anaconda\\lib\\site-packages (from sklearn) (0.23.1)\n",
      "Requirement already satisfied: joblib>=0.11 in c:\\programdata\\anaconda\\lib\\site-packages (from scikit-learn->sklearn) (1.0.1)\n",
      "Requirement already satisfied: threadpoolctl>=2.0.0 in c:\\programdata\\anaconda\\lib\\site-packages (from scikit-learn->sklearn) (2.1.0)\n",
      "Requirement already satisfied: numpy>=1.13.3 in c:\\programdata\\anaconda\\lib\\site-packages (from scikit-learn->sklearn) (1.19.2)\n",
      "Requirement already satisfied: scipy>=0.19.1 in c:\\programdata\\anaconda\\lib\\site-packages (from scikit-learn->sklearn) (1.6.2)\n",
      "Building wheels for collected packages: sklearn\n",
      "  Building wheel for sklearn (setup.py): started\n",
      "  Building wheel for sklearn (setup.py): finished with status 'done'\n",
      "\n",
      "  Created wheel for sklearn: filename=sklearn-0.0-py2.py3-none-any.whl size=1316 sha256=dfc9639850e43936814514556fdf74d87207e1ee094e5f5729e20bfe7beaa5a0\n",
      "  Stored in directory: c:\\users\\dell\\appdata\\local\\pip\\cache\\wheels\\22\\0b\\40\\fd3f795caaa1fb4c6cb738bc1f56100be1e57da95849bfc897\n",
      "Successfully built sklearn\n",
      "Installing collected packages: sklearn\n",
      "Successfully installed sklearn-0.0\n"
     ]
    }
   ],
   "source": [
    "pip install sklearn"
   ]
  },
  {
   "cell_type": "code",
   "execution_count": 24,
   "id": "4bd74609",
   "metadata": {},
   "outputs": [],
   "source": [
    "from sklearn.preprocessing import MinMaxScaler"
   ]
  },
  {
   "cell_type": "code",
   "execution_count": 29,
   "id": "9ada697e",
   "metadata": {},
   "outputs": [],
   "source": [
    "scaling = MinMaxScaler()"
   ]
  },
  {
   "cell_type": "code",
   "execution_count": 30,
   "id": "63d56c37",
   "metadata": {},
   "outputs": [
    {
     "data": {
      "text/plain": [
       "array([[0.        , 0.24901186],\n",
       "       [0.95661605, 0.1916996 ],\n",
       "       [0.88214027, 0.2055336 ],\n",
       "       [0.87924801, 0.3201581 ],\n",
       "       [0.96673897, 0.23913043],\n",
       "       [0.88503254, 0.36561265],\n",
       "       [0.95444685, 0.20158103],\n",
       "       [0.9681851 , 0.22332016],\n",
       "       [0.94432393, 0.27865613],\n",
       "       [1.        , 0.17786561],\n",
       "       [0.92986262, 0.12055336],\n",
       "       [0.9472162 , 0.28063241],\n",
       "       [0.94866233, 0.14624506],\n",
       "       [0.92190889, 0.19565217],\n",
       "       [0.99421547, 0.19565217],\n",
       "       [0.96746204, 0.22332016],\n",
       "       [0.9132321 , 0.21146245],\n",
       "       [0.96167751, 0.23320158],\n",
       "       [0.92769342, 0.16403162],\n",
       "       [0.95372379, 0.16798419],\n",
       "       [0.91395517, 0.46640316],\n",
       "       [0.94432393, 0.17588933],\n",
       "       [0.8626175 , 0.60474308],\n",
       "       [0.91901663, 0.22134387],\n",
       "       [0.85683297, 0.16996047],\n",
       "       [0.90383225, 0.21146245],\n",
       "       [0.87129429, 0.25889328],\n",
       "       [0.89587852, 0.20355731],\n",
       "       [0.88937093, 0.19367589],\n",
       "       [0.93058568, 0.22924901],\n",
       "       [0.94143167, 0.18577075],\n",
       "       [0.92046276, 0.15019763],\n",
       "       [0.90961678, 0.18181818],\n",
       "       [0.91684743, 0.21541502],\n",
       "       [0.92263196, 0.15612648],\n",
       "       [0.90455531, 0.20948617],\n",
       "       [0.90238612, 0.21146245],\n",
       "       [0.8879248 , 0.17786561],\n",
       "       [0.87129429, 0.1798419 ],\n",
       "       [0.87274042, 0.15019763],\n",
       "       [0.95589299, 0.64229249],\n",
       "       [0.90817064, 0.1916996 ],\n",
       "       [0.89732466, 0.61264822],\n",
       "       [0.93130875, 0.22727273],\n",
       "       [0.88503254, 0.64031621],\n",
       "       [0.87129429, 0.20355731],\n",
       "       [0.95516992, 0.65217391],\n",
       "       [0.96746204, 0.56324111],\n",
       "       [0.93275488, 0.18577075],\n",
       "       [0.9472162 , 0.25296443],\n",
       "       [0.93564714, 0.19565217],\n",
       "       [0.87129429, 0.19565217],\n",
       "       [0.92769342, 0.1798419 ],\n",
       "       [0.92697035, 0.19960474],\n",
       "       [0.92335503, 0.22924901],\n",
       "       [0.92118583, 0.18379447],\n",
       "       [0.90817064, 0.19565217],\n",
       "       [0.95589299, 0.18972332],\n",
       "       [0.88864787, 0.243083  ],\n",
       "       [0.9197397 , 0.13636364],\n",
       "       [0.82212581, 0.03952569],\n",
       "       [0.81923355, 0.07114625],\n",
       "       [0.84164859, 0.12252964],\n",
       "       [0.91612437, 0.10079051],\n",
       "       [0.82212581, 0.0770751 ],\n",
       "       [0.8076645 , 0.14031621],\n",
       "       [0.82212581, 0.09288538],\n",
       "       [0.87563268, 0.05335968],\n",
       "       [0.82212581, 0.08498024],\n",
       "       [0.8922632 , 0.03952569],\n",
       "       [0.81055676, 0.08893281],\n",
       "       [0.81634129, 0.17193676],\n",
       "       [0.92986262, 0.15217391],\n",
       "       [0.90310918, 0.18181818],\n",
       "       [0.86695589, 0.18379447],\n",
       "       [0.79248012, 0.06916996],\n",
       "       [0.77078814, 0.22529644],\n",
       "       [0.86984816, 0.03162055],\n",
       "       [0.78380333, 0.42490119],\n",
       "       [0.81923355, 0.04940711],\n",
       "       [0.84598698, 0.61857708],\n",
       "       [0.79537238, 0.03557312],\n",
       "       [0.84743312, 0.21146245],\n",
       "       [0.80115691, 0.0770751 ],\n",
       "       [0.87129429, 0.61660079],\n",
       "       [0.78380333, 0.02964427],\n",
       "       [0.84381779, 0.04743083],\n",
       "       [0.80694143, 0.17193676],\n",
       "       [0.77006508, 0.18379447],\n",
       "       [0.76934201, 0.26086957],\n",
       "       [0.80115691, 0.11660079],\n",
       "       [0.80115691, 0.21541502],\n",
       "       [0.79537238, 0.15217391],\n",
       "       [0.84526392, 0.15612648],\n",
       "       [0.81634129, 0.41304348],\n",
       "       [0.76789588, 0.24703557],\n",
       "       [0.82935647, 0.1541502 ],\n",
       "       [0.78163413, 0.27272727],\n",
       "       [0.81634129, 0.13241107],\n",
       "       [0.82212581, 0.06521739],\n",
       "       [0.81634129, 0.48023715],\n",
       "       [0.80115691, 0.26482213],\n",
       "       [0.83875633, 0.11857708],\n",
       "       [0.81995662, 0.33794466],\n",
       "       [0.78235719, 0.19367589],\n",
       "       [0.83224873, 0.19565217],\n",
       "       [0.82574114, 0.35770751],\n",
       "       [0.81344902, 0.19565217],\n",
       "       [0.84743312, 0.19960474],\n",
       "       [0.81127983, 0.10869565],\n",
       "       [0.76717281, 0.12055336],\n",
       "       [0.75632683, 0.59288538],\n",
       "       [0.8329718 , 0.33399209],\n",
       "       [0.7780188 , 0.38339921],\n",
       "       [0.7527115 , 0.        ],\n",
       "       [0.80115691, 0.1284585 ],\n",
       "       [0.725235  , 0.15217391],\n",
       "       [0.78235719, 0.14426877],\n",
       "       [0.82574114, 0.17193676],\n",
       "       [0.85104845, 0.53162055],\n",
       "       [0.79537238, 0.53162055],\n",
       "       [0.75560376, 0.32806324],\n",
       "       [0.76355748, 0.25889328],\n",
       "       [0.82574114, 0.72924901],\n",
       "       [0.87129429, 1.        ],\n",
       "       [0.78597252, 0.7055336 ],\n",
       "       [0.80043384, 0.28063241],\n",
       "       [0.82646421, 0.15612648],\n",
       "       [0.780188  , 0.27470356],\n",
       "       [0.82212581, 0.17588933],\n",
       "       [0.79826464, 0.70355731],\n",
       "       [0.85755604, 0.12055336],\n",
       "       [0.85900217, 0.44466403],\n",
       "       [0.85394071, 0.31027668],\n",
       "       [0.84598698, 0.55533597],\n",
       "       [0.83224873, 0.09881423],\n",
       "       [0.83875633, 0.33992095],\n",
       "       [0.81344902, 0.78656126],\n",
       "       [0.83369487, 0.94268775],\n",
       "       [0.90310918, 0.56324111],\n",
       "       [0.85610991, 0.43873518],\n",
       "       [0.8626175 , 0.40909091],\n",
       "       [0.89370933, 0.35968379],\n",
       "       [0.90527838, 0.48023715],\n",
       "       [0.91250904, 0.83201581],\n",
       "       [0.81344902, 0.62055336],\n",
       "       [0.87924801, 0.55928854],\n",
       "       [0.93130875, 0.84980237],\n",
       "       [0.8582791 , 0.76482213],\n",
       "       [0.89081706, 0.49407115],\n",
       "       [0.87346349, 0.62450593],\n",
       "       [0.90383225, 0.47035573],\n",
       "       [0.85249458, 0.38142292],\n",
       "       [0.87563268, 0.22924901],\n",
       "       [0.88430947, 0.50592885],\n",
       "       [0.8373102 , 0.10869565],\n",
       "       [0.87997108, 0.87944664],\n",
       "       [0.92841649, 0.66798419],\n",
       "       [0.82791034, 0.45256917],\n",
       "       [0.96456978, 0.18577075],\n",
       "       [0.90238612, 0.18379447],\n",
       "       [0.82140275, 0.61067194],\n",
       "       [0.9175705 , 0.49802372],\n",
       "       [0.85683297, 0.5       ],\n",
       "       [0.8647867 , 0.53557312],\n",
       "       [0.92407809, 0.39920949],\n",
       "       [0.92046276, 0.71541502],\n",
       "       [0.90021692, 0.58498024],\n",
       "       [0.85466377, 0.51976285],\n",
       "       [0.90961678, 0.36363636],\n",
       "       [0.89660159, 0.76284585],\n",
       "       [0.80983369, 0.45256917],\n",
       "       [0.85104845, 0.32608696],\n",
       "       [0.95155459, 0.34980237],\n",
       "       [0.91901663, 0.97035573],\n",
       "       [0.89660159, 0.62648221],\n",
       "       [0.88720174, 0.69960474],\n",
       "       [0.87997108, 0.36561265],\n",
       "       [0.94938539, 0.66403162]])"
      ]
     },
     "execution_count": 30,
     "metadata": {},
     "output_type": "execute_result"
    }
   ],
   "source": [
    "scaling.fit_transform(df[['Alcohol','Malic']])"
   ]
  },
  {
   "cell_type": "code",
   "execution_count": null,
   "id": "a093bd4e",
   "metadata": {},
   "outputs": [],
   "source": []
  },
  {
   "cell_type": "code",
   "execution_count": null,
   "id": "b6123932",
   "metadata": {},
   "outputs": [],
   "source": []
  }
 ],
 "metadata": {
  "kernelspec": {
   "display_name": "Python 3",
   "language": "python",
   "name": "python3"
  },
  "language_info": {
   "codemirror_mode": {
    "name": "ipython",
    "version": 3
   },
   "file_extension": ".py",
   "mimetype": "text/x-python",
   "name": "python",
   "nbconvert_exporter": "python",
   "pygments_lexer": "ipython3",
   "version": "3.8.8"
  }
 },
 "nbformat": 4,
 "nbformat_minor": 5
}
